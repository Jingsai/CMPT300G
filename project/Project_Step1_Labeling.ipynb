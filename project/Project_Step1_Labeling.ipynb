{
  "nbformat": 4,
  "nbformat_minor": 0,
  "metadata": {
    "colab": {
      "name": "Project_Step1_Labeling.ipynb",
      "provenance": [],
      "collapsed_sections": [],
      "authorship_tag": "ABX9TyPK723tgYyjGnmFgksMVrH7",
      "include_colab_link": true
    },
    "kernelspec": {
      "name": "python3",
      "display_name": "Python 3"
    },
    "language_info": {
      "name": "python"
    }
  },
  "cells": [
    {
      "cell_type": "markdown",
      "metadata": {
        "id": "view-in-github",
        "colab_type": "text"
      },
      "source": [
        "<a href=\"https://colab.research.google.com/github/Jingsai/CMPT300G/blob/master/project/Project_Step1_Labeling.ipynb\" target=\"_parent\"><img src=\"https://colab.research.google.com/assets/colab-badge.svg\" alt=\"Open In Colab\"/></a>"
      ]
    },
    {
      "cell_type": "markdown",
      "source": [
        "## Data\n",
        "\n",
        "- Training \n",
        "\n",
        "https://cs.westminstercollege.edu/~jingsai/courses/CMPT300G/pelican/pelican_image_training.zip\n",
        "\n",
        "- Testing\n",
        "\n",
        "https://cs.westminstercollege.edu/~jingsai/courses/CMPT300G/pelican/pelican_image_testing.zip"
      ],
      "metadata": {
        "id": "hXfNx4K02zg_"
      }
    },
    {
      "cell_type": "markdown",
      "source": [
        "## Labeling Tool\n",
        "\n",
        "https://github.com/tzutalin/labelImg\n",
        "\n"
      ],
      "metadata": {
        "id": "kfoR6i1_1p8E"
      }
    },
    {
      "cell_type": "markdown",
      "source": [
        "## Goal\n",
        "\n",
        "- Use **YOLO format** to create boxes for labeling pelicans\n",
        "\n",
        "- Create a classes.txt of a list of labels\n",
        "\n",
        "- Create one label txt file for one image with format\n",
        "\n",
        "  - one row for one box\n",
        "  - five numbers on one row: \n",
        "    - label index\n",
        "    - horizontal position of center (left to right, 0 to 1)\n",
        "    - vertical position of center (top to bottom, 0 to 1)\n",
        "    - width\n",
        "    - height"
      ],
      "metadata": {
        "id": "PAyRQxhc29jq"
      }
    }
  ]
}