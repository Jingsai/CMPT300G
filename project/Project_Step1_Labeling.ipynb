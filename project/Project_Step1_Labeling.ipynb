{
  "nbformat": 4,
  "nbformat_minor": 0,
  "metadata": {
    "colab": {
      "name": "Project_Step1_Labeling.ipynb",
      "provenance": [],
      "collapsed_sections": [],
      "authorship_tag": "ABX9TyOIDD0xhNBi8krC4+NupESF",
      "include_colab_link": true
    },
    "kernelspec": {
      "name": "python3",
      "display_name": "Python 3"
    },
    "language_info": {
      "name": "python"
    }
  },
  "cells": [
    {
      "cell_type": "markdown",
      "metadata": {
        "id": "view-in-github",
        "colab_type": "text"
      },
      "source": [
        "<a href=\"https://colab.research.google.com/github/Jingsai/CMPT300G/blob/master/project/Project_Step1_Labeling.ipynb\" target=\"_parent\"><img src=\"https://colab.research.google.com/assets/colab-badge.svg\" alt=\"Open In Colab\"/></a>"
      ]
    },
    {
      "cell_type": "markdown",
      "source": [
        "## Teams\n",
        "\n",
        "Teams are organized based on where you physically sit together in the classroom today. Let me know **as soon as possible** if you want to swap to a different team.\n",
        "\n",
        "- Team 1: Omar and William and Tim \n",
        "- Team 2: Yuhao and Connor \n",
        "- Team 3: John Mohr and Taylor\n",
        "- Team 4: John Foley and Jasper\n",
        "- Team 5: Valeria and Julia "
      ],
      "metadata": {
        "id": "xqTuOc256U6f"
      }
    },
    {
      "cell_type": "markdown",
      "source": [
        "## Guideline\n",
        "\n",
        "1. Download the dataset and upload it to the google drive. \n",
        "\n",
        "2. Share the folder to your team member(s) and negotiate a plan to divide the labeling task. \n",
        "\n",
        "3. Manage your folder in this organization:\n",
        "  ```\n",
        "  training_data\n",
        "  -- images\n",
        "  -- labels\n",
        "  testing_data\n",
        "  -- images\n",
        "  -- labels\n",
        "  ```\n",
        "4. Use labelImg to label the images:\n",
        "\n",
        "  - Use **YOLO format** to create boxes for labeling pelicans\n",
        "\n",
        "  - Automatically generate or manually create a classes.txt of a list of labels such as flying, beak, no_beak, etc\n",
        "\n",
        "  - Automatically create one label txt file for one image **using same file name except the extension** with **YOLO** format:\n",
        "\n",
        "    - one row for one box\n",
        "    - five numbers on one row: \n",
        "      - label index (e.g. **0 is flying, 1 is beak, etc**)\n",
        "      - horizontal position of center (left to right, 0 to 1)\n",
        "      - vertical position of center (top to bottom, 0 to 1)\n",
        "      - width\n",
        "      - height"
      ],
      "metadata": {
        "id": "37M6sbKS7mfp"
      }
    },
    {
      "cell_type": "markdown",
      "source": [
        "## Data\n",
        "\n",
        "- Training \n",
        "\n",
        "https://cs.westminstercollege.edu/~jingsai/courses/CMPT300G/pelican/pelican_image_training.zip\n",
        "\n",
        "- Testing\n",
        "\n",
        "https://cs.westminstercollege.edu/~jingsai/courses/CMPT300G/pelican/pelican_image_testing.zip"
      ],
      "metadata": {
        "id": "hXfNx4K02zg_"
      }
    },
    {
      "cell_type": "markdown",
      "source": [
        "## Labeling Tool\n",
        "\n",
        "- **First and default choice -** labelImg: https://github.com/tzutalin/labelImg\n",
        "\n",
        "- Other choices if labelImg does not work as long as using or converting to YOLO fomart:\n",
        "  - CVAT: https://github.com/openvinotoolkit/cvat\n",
        "  - Labelbox: https://labelbox.com/\n",
        "  - labelme: http://labelme.csail.mit.edu/Release3.0/\n",
        "  - makesense.ai: https://www.makesense.ai/\n",
        "  - hasty.ai: https://hasty.ai/"
      ],
      "metadata": {
        "id": "kfoR6i1_1p8E"
      }
    },
    {
      "cell_type": "markdown",
      "source": [
        "## Submission\n",
        "\n",
        "No submission. Share your google drive with me by Friday 5/27. "
      ],
      "metadata": {
        "id": "QiPMTBwC6Tvx"
      }
    }
  ]
}