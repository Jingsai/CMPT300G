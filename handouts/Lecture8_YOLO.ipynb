{
  "nbformat": 4,
  "nbformat_minor": 0,
  "metadata": {
    "colab": {
      "name": "Lecture8_YOLO.ipynb",
      "provenance": [],
      "collapsed_sections": [],
      "authorship_tag": "ABX9TyMS2EJ5NMd6cWkBc/3A/MG7",
      "include_colab_link": true
    },
    "kernelspec": {
      "name": "python3",
      "display_name": "Python 3"
    },
    "language_info": {
      "name": "python"
    }
  },
  "cells": [
    {
      "cell_type": "markdown",
      "metadata": {
        "id": "view-in-github",
        "colab_type": "text"
      },
      "source": [
        "<a href=\"https://colab.research.google.com/github/Jingsai/CMPT300G/blob/master/handouts/Lecture8_YOLO.ipynb\" target=\"_parent\"><img src=\"https://colab.research.google.com/assets/colab-badge.svg\" alt=\"Open In Colab\"/></a>"
      ]
    },
    {
      "cell_type": "markdown",
      "source": [
        "## Fully Convolutional Networks\n",
        "\n",
        "### YOLO\n",
        "\n",
        "https://github.com/ultralytics/yolov5"
      ],
      "metadata": {
        "id": "3P8Ax00D9f_y"
      }
    },
    {
      "cell_type": "markdown",
      "source": [
        "## Evaluation\n",
        "\n",
        "### confusion matrix\n",
        "\n",
        "https://en.wikipedia.org/wiki/Confusion_matrix\n",
        "\n",
        "### ROC curve\n",
        "\n",
        "<img width=400 src=\"https://upload.wikimedia.org/wikipedia/commons/thumb/1/13/Roc_curve.svg/800px-Roc_curve.svg.png\">\n",
        "\n",
        "### Precision-Recall curve in object detection \n",
        "\n",
        "#### IoU\n",
        "\n",
        "<img width=400 src=\"https://miro.medium.com/0*-8wov7TFINqw0xAY\">\n",
        "\n",
        "#### Threshold \n",
        "\n",
        "Default threshold is 0.5.\n",
        "\n",
        "<img width=500 src=\"https://miro.medium.com/max/1400/1*S8osGaPdGMnJc-WFIqR3eA.jpeg\">\n",
        "\n",
        "But it can be adjusted. \n",
        "\n",
        "<img width=500 src=\"https://miro.medium.com/max/1400/1*dGhkFQLNvIeib_Fg8SwndA.jpeg\">\n",
        "\n",
        "#### Table of precision and recall\n",
        "\n",
        "- A box is True or False prediction based on the pre-defined IoU threshold.\n",
        "- All boxes are positive prediction, which are either True Positive or False Positive.\n",
        "- Rank all boxes based on the prediction confidence. \n",
        "\n",
        "<img width=600 src=\"https://miro.medium.com/1*9ordwhXD68cKCGzuJaH2Rg.png\">\n",
        "\n",
        "- Precision measures how accurate is your predictions. i.e. the percentage of your predictions are correct. [[1]](https://jonathan-hui.medium.com/map-mean-average-precision-for-object-detection-45c121a31173)\n",
        "\n",
        "- Recall measures how good you find all the positives. For example, we can find 80% of the possible positive cases in our top K predictions. [[1]](https://jonathan-hui.medium.com/map-mean-average-precision-for-object-detection-45c121a31173)\n",
        "\n",
        "- Recall always goes up since the model detects more and more objects and eventually finds all objects if possible. \n",
        "\n",
        "- Precision goes down if detecting a FP and goes up if detecting a TP. \n",
        "\n",
        "<img width=600 src=\"https://miro.medium.com/1*ODZ6eZMrie3XVTOMDnXTNQ.jpeg\">\n",
        "\n",
        "#### AP (Average Precision)\n",
        "\n",
        "- A zig-zag lines.\n",
        "\n",
        "<img width=500 src=\"https://miro.medium.com/max/1400/1*VenTq4IgxjmIpOXWdFb-jg.png\">\n",
        "\n",
        "- A smooth version.\n",
        "- AUC (Area under the curve) is the value of AP (Average Precision).\n",
        "\n",
        "<img width=500 src=\"https://miro.medium.com/max/1400/1*zqTL1KW1gwzion9jY8SjHA.png\">\n",
        "\n",
        "### mAP (mean Average Precision)\n",
        "\n",
        "mAP is the mean of AP acoss all categories/classes and thresholds. \n",
        "\n",
        "- `P`: precision\n",
        "- `R`: recall\n",
        "- `mAP@.5`: mAP at threshold 0.5.\n",
        "- `mAP@.5:.95`: mAP over a sequence of thresholds from 0.5 to 0.95, step 0.05 (0.5, 0.55, 0.6, 0.65, 0.7, 0.75, 0.8, 0.85, 0.9, 0.95).\n"
      ],
      "metadata": {
        "id": "ZgfJFmoC9ozT"
      }
    }
  ]
}