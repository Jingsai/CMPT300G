{
  "nbformat": 4,
  "nbformat_minor": 0,
  "metadata": {
    "colab": {
      "name": "Lecture9_Augmentation.ipynb",
      "provenance": [],
      "collapsed_sections": [],
      "authorship_tag": "ABX9TyOBxsValjuxO6o7X0LAw1E8",
      "include_colab_link": true
    },
    "kernelspec": {
      "name": "python3",
      "display_name": "Python 3"
    },
    "language_info": {
      "name": "python"
    }
  },
  "cells": [
    {
      "cell_type": "markdown",
      "metadata": {
        "id": "view-in-github",
        "colab_type": "text"
      },
      "source": [
        "<a href=\"https://colab.research.google.com/github/Jingsai/CMPT300G/blob/master/handouts/Lecture9_Augmentation.ipynb\" target=\"_parent\"><img src=\"https://colab.research.google.com/assets/colab-badge.svg\" alt=\"Open In Colab\"/></a>"
      ]
    },
    {
      "cell_type": "markdown",
      "source": [
        "## Annotation\n",
        "\n",
        "<img src=\"https://albumentations.ai/docs/images/getting_started/augmenting_bboxes/bbox_formats.jpg\">\n",
        "\n"
      ],
      "metadata": {
        "id": "ZgfJFmoC9ozT"
      }
    },
    {
      "cell_type": "markdown",
      "source": [
        "## Augmentation\n",
        "\n",
        "### What is augmentation \n",
        "\n",
        "https://albumentations.ai/docs/introduction/image_augmentation/\n",
        "\n",
        "### Types of augmentation\n",
        "\n",
        "https://albumentations.ai/docs/getting_started/transforms_and_targets/\n",
        "\n",
        "- flipping\n",
        "- brightness and contrast [[1]](https://www.dspguide.com/ch23/5.htm)\n",
        "  <img src=\"https://www.dspguide.com/graphics/F_23_10.gif\">\n",
        "- hue saturation value [[2]](https://www.virtualartacademy.com/three-components-of-color/)\n",
        "  <img src=\"https://www.virtualartacademy.com/wp-content/uploads/2018/12/hue-saturation-value.png\">\n",
        "- blur\n",
        "- noise \n",
        "- crop\n",
        "- ...\n",
        "\n",
        "### Demo\n",
        "https://albumentations-demo.herokuapp.com/\n",
        "\n",
        "### Implementation\n",
        "\n",
        "https://albumentations.ai/docs/getting_started/bounding_boxes_augmentation/"
      ],
      "metadata": {
        "id": "4WMydO3kn6sv"
      }
    }
  ]
}