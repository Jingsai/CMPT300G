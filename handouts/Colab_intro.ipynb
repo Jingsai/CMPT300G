{
  "cells": [
    {
      "cell_type": "markdown",
      "metadata": {
        "id": "view-in-github",
        "colab_type": "text"
      },
      "source": [
        "<a href=\"https://colab.research.google.com/github/Jingsai/CMPT300G/blob/master/handouts/Colab_intro.ipynb\" target=\"_parent\"><img src=\"https://colab.research.google.com/assets/colab-badge.svg\" alt=\"Open In Colab\"/></a>"
      ]
    },
    {
      "cell_type": "markdown",
      "metadata": {
        "id": "1KFPSH6cPhed"
      },
      "source": [
        "## Interface \n",
        "\n",
        "- How to locate the folder of current notebook in Google Drive?\n",
        "- How to create a new notebook and rename it?\n",
        "- How to store temporary files for current notebook?"
      ]
    },
    {
      "cell_type": "markdown",
      "metadata": {
        "id": "x27ZH3dHPhem"
      },
      "source": [
        "## Cells\n",
        "\n",
        "Each notebook is a group of cells, primarily either code cell or markdown cell. \n",
        "\n",
        "- How to create each type of cell?\n",
        "- How to rearange the order of cells?\n",
        "- How to copy/cut a group of consecutive cells? Can you move two cells below this cell to another place?\n",
        "\n",
        "#### code cell"
      ]
    },
    {
      "cell_type": "code",
      "execution_count": null,
      "metadata": {
        "id": "F2Wk29ZqPhen"
      },
      "outputs": [],
      "source": [
        "print(\"This is a code cell!\")"
      ]
    },
    {
      "cell_type": "markdown",
      "metadata": {
        "id": "aupZlbJxPhe4"
      },
      "source": [
        "#### Markdown cell\n",
        "\n",
        "This is a markdown cell! You can not only write Markdown style text here. It also supports LaTex for math formulas like $\\Sigma_n \\alpha^n$."
      ]
    },
    {
      "cell_type": "markdown",
      "metadata": {
        "id": "X6SpeISYPhfa"
      },
      "source": [
        "## Markdown\n",
        "\n",
        "Here are some common syntax of Markdown file:\n",
        "\n",
        "- Headings # ## ###\n",
        "- Text Style \n",
        "    - **Bold**\n",
        "    - *Italic*\n",
        "- Lists\n",
        "    - ordered 1.\n",
        "    - unordered -\n",
        "    - nested \n",
        "- Quoting code\n",
        "```python\n",
        "x = 1\n",
        "y = x\n",
        "```\n",
        "\n",
        "Read more sytax from [here](https://docs.github.com/en/github/writing-on-github/getting-started-with-writing-and-formatting-on-github/basic-writing-and-formatting-syntax).\n",
        "\n",
        "Please write a short paragraph of Markdown cell below using at least three different syntax\n"
      ]
    },
    {
      "cell_type": "markdown",
      "metadata": {
        "id": "otDPpulGPhgS"
      },
      "source": [
        "Write your Markdown code below:\n",
        "\n"
      ]
    },
    {
      "cell_type": "markdown",
      "metadata": {
        "id": "NGxN4DgiPhgT"
      },
      "source": [
        ""
      ]
    },
    {
      "cell_type": "markdown",
      "metadata": {
        "id": "OYEnMzTuPhe5"
      },
      "source": [
        "## Runtime\n"
      ]
    },
    {
      "cell_type": "markdown",
      "metadata": {
        "id": "BTpE5SYBPhe6"
      },
      "source": [
        "- How to run all cells?\n",
        "- How to terminate or kill current kernel?\n",
        "- How to restart current kernel?\n",
        "- How to change running type?\n",
        "- How to check the running time of current cell?"
      ]
    },
    {
      "cell_type": "markdown",
      "metadata": {
        "id": "vZaK5r51Phe_"
      },
      "source": [
        "**Be careful!**\n",
        "\n",
        "Cells can be executed in any order! A variable defined in one cell could be modified in any other cell no matter what the order is. A variale will stay in the memory of the current notebook unless you manually clear it or restart the kernel.  \n",
        "\n",
        "Cell may never stop running itself. Notebook only can execute one code at one time. So, the notebook will stop executing other cell if it is stuck on one cell. A quick way to check if a cell is under running background is to look at the circle on the top-left corner of the cell. It would be a circle with a triangle inside if the kernel is free to use, and it would be a circle with dashed boundary and a square inside if the kernel is busy.  "
      ]
    },
    {
      "cell_type": "markdown",
      "metadata": {
        "id": "PHzGgpBpPhfB"
      },
      "source": [
        "**Be Careful!** \n",
        "\n",
        "All variables, functions, and any other objects will be cleared from current kernel after the restarting. \n",
        "\n",
        "Please run the code below and then restart the kernel. Try it again and then interupt the kernel. It is an infinite loop, so it never stops. \n",
        "\n",
        "Print the x value after restarting and interupting. Tell me what is the difference?"
      ]
    },
    {
      "cell_type": "code",
      "execution_count": null,
      "metadata": {
        "id": "g-CBoJIuPhfD"
      },
      "outputs": [],
      "source": [
        "x = 1\n",
        "while x:\n",
        "    x += 1"
      ]
    },
    {
      "cell_type": "code",
      "execution_count": null,
      "metadata": {
        "id": "g7DisGiyPhfE"
      },
      "outputs": [],
      "source": [
        "x"
      ]
    },
    {
      "cell_type": "markdown",
      "metadata": {
        "id": "oNNpDG5LPhfI"
      },
      "source": [
        "## Output\n",
        "\n",
        "- How to clear output?\n",
        "\n",
        "Can you clear all existed output? This operation is very helpful if you have messy outputs. "
      ]
    },
    {
      "cell_type": "markdown",
      "metadata": {
        "id": "zAEykzGWPhfU"
      },
      "source": [
        "## Shotcuts\n",
        "\n",
        "- How to comment a block of code? \n",
        "- How to indent a block of code for indentation?\n",
        "- How to run code using short keys?\n",
        "\n",
        "On Mac:\n",
        "- command + /\n",
        "- command + \\[ or \\]\n",
        "- shift + enter\n",
        "\n",
        "On Windows:\n",
        "\n",
        "I am not sure since I do not have a windows machine. Try to use ctrl instead of command. You also can read more information from this [page](https://towardsdatascience.com/jypyter-notebook-shortcuts-bf0101a98330)\n",
        "\n",
        "Please use shotcuts to comment, ident, and run the block code below."
      ]
    },
    {
      "cell_type": "code",
      "execution_count": null,
      "metadata": {
        "id": "us5XtddvPhfV"
      },
      "outputs": [],
      "source": [
        "# This is a block of code. \n",
        "for i in range(10):\n",
        "    for j in range(10):\n",
        "        for k in range(10):\n",
        "            x = i + j + k "
      ]
    },
    {
      "cell_type": "markdown",
      "metadata": {
        "tags": [],
        "id": "0viVc4QAPhgX"
      },
      "source": [
        "## Terminal \n",
        "\n",
        "You can open terminal on a tab inside Jupyter. Here are some common Linux commands. You can read more commands from this [page](https://www.hostinger.com/tutorials/linux-commands).\n",
        "\n",
        "- ls\n",
        "- pwd\n",
        "- cd"
      ]
    },
    {
      "cell_type": "markdown",
      "metadata": {
        "id": "NEa4eTDvPhgY"
      },
      "source": [
        "You also can use exclamation mark `!` to run command directly in a cell."
      ]
    },
    {
      "cell_type": "code",
      "execution_count": null,
      "metadata": {
        "id": "VnB92xfVPhgY"
      },
      "outputs": [],
      "source": [
        "!pwd"
      ]
    },
    {
      "cell_type": "markdown",
      "metadata": {
        "tags": [],
        "id": "ck07QTGfPhgZ"
      },
      "source": [
        "## Environment \n",
        "\n",
        "Each colab notebook has its own environment with a bunch pre-installed common data science and machine learn learning packages. Under one colab environemnt, you can install your own packages, connect to your own local or cloud storage, load external git respository, etc. \n",
        "\n",
        "But you must know that all the temporary files and connections under one environment may be erased after restarting or reopening the colab. \n"
      ]
    },
    {
      "cell_type": "markdown",
      "source": [
        "## Connect to Google Drive\n",
        "\n",
        "The path to the Colab folder under Google drive is ```/content/drive/My Drive/Colab Notebooks/``. Please download the csv file from https://cs.westminstercollege.edu/~jingsai/courses/CMPT300G/data/Titanic.csv"
      ],
      "metadata": {
        "id": "a5_v4TaQU1FE"
      }
    },
    {
      "cell_type": "code",
      "source": [
        "from google.colab import drive\n",
        "drive.mount('/content/drive')"
      ],
      "metadata": {
        "id": "TcazDSoRU_-l"
      },
      "execution_count": null,
      "outputs": []
    },
    {
      "cell_type": "code",
      "source": [
        "import pandas as pd\n",
        "filename = \"/content/drive/My Drive/Colab Notebooks/Titanic.csv\"\n",
        "pd.read_csv(filename)"
      ],
      "metadata": {
        "id": "ADZWSNlDVSQg"
      },
      "execution_count": null,
      "outputs": []
    }
  ],
  "metadata": {
    "kernelspec": {
      "display_name": "Python 3 (ipykernel)",
      "language": "python",
      "name": "python3"
    },
    "language_info": {
      "codemirror_mode": {
        "name": "ipython",
        "version": 3
      },
      "file_extension": ".py",
      "mimetype": "text/x-python",
      "name": "python",
      "nbconvert_exporter": "python",
      "pygments_lexer": "ipython3",
      "version": "3.9.7"
    },
    "colab": {
      "name": "Colab_intro.ipynb",
      "provenance": [],
      "collapsed_sections": [],
      "include_colab_link": true
    }
  },
  "nbformat": 4,
  "nbformat_minor": 0
}